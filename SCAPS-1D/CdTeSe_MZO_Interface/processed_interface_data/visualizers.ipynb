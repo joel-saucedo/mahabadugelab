{
 "cells": [
  {
   "cell_type": "code",
   "execution_count": 3,
   "id": "e3c7b795",
   "metadata": {
    "scrolled": true
   },
   "outputs": [
    {
     "ename": "AttributeError",
     "evalue": "'set' object has no attribute 'items'",
     "output_type": "error",
     "traceback": [
      "\u001b[1;31m---------------------------------------------------------------------------\u001b[0m",
      "\u001b[1;31mAttributeError\u001b[0m                            Traceback (most recent call last)",
      "Cell \u001b[1;32mIn [3], line 17\u001b[0m\n\u001b[0;32m     14\u001b[0m dataframes \u001b[38;5;241m=\u001b[39m {}\n\u001b[0;32m     16\u001b[0m \u001b[38;5;66;03m# Loading each CSV file into a separate dataframe\u001b[39;00m\n\u001b[1;32m---> 17\u001b[0m \u001b[38;5;28;01mfor\u001b[39;00m name, path \u001b[38;5;129;01min\u001b[39;00m \u001b[43mfiles\u001b[49m\u001b[38;5;241;43m.\u001b[39;49m\u001b[43mitems\u001b[49m():\n\u001b[0;32m     18\u001b[0m     dataframes[name] \u001b[38;5;241m=\u001b[39m pd\u001b[38;5;241m.\u001b[39mread_csv(path)\n",
      "\u001b[1;31mAttributeError\u001b[0m: 'set' object has no attribute 'items'"
     ]
    }
   ],
   "source": [
    "import pandas as pd\n",
    "\n",
    "# Paths to the CSV files\n",
    "files = {\n",
    "    \"Interface_AC_Panel\": \"/mnt/data/Interface_AC_Panel.csv\",\n",
    "    \"Interface_DP_Cf\": \"/mnt/data/Interface_DP_Cf.csv\",\n",
    "    \"Interface_DP_CV\": \"/mnt/data/Interface_DP_CV.csv\",\n",
    "    \"Interface_IVCurve_DP_Thickness\": \"/mnt/data/Interface_IVCurve_DP_Thickness.csv\",\n",
    "    \"Interface_Thickness_Cf\": \"/mnt/data/Interface_Thickness_Cf.csv\",\n",
    "    \"Interface_Thickness_CV\": \"/mnt/data/Interface_Thickness_CV.csv\"\n",
    "}\n",
    "\n",
    "# Creating a dictionary to hold the dataframes\n",
    "dataframes = {}\n",
    "\n",
    "# Loading each CSV file into a separate dataframe\n",
    "for name, path in files.items():\n",
    "    dataframes[name] = pd.read_csv(path)\n",
    "\n",
    "# Now dataframes['Interface_AC_Panel'], dataframes['Interface_DP_Cf'], etc., hold the respective data\n"
   ]
  }
 ],
 "metadata": {
  "kernelspec": {
   "display_name": "Python 3 (ipykernel)",
   "language": "python",
   "name": "python3"
  },
  "language_info": {
   "codemirror_mode": {
    "name": "ipython",
    "version": 3
   },
   "file_extension": ".py",
   "mimetype": "text/x-python",
   "name": "python",
   "nbconvert_exporter": "python",
   "pygments_lexer": "ipython3",
   "version": "3.10.6"
  }
 },
 "nbformat": 4,
 "nbformat_minor": 5
}
